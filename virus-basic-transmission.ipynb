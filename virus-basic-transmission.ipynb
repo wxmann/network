{
 "cells": [
  {
   "cell_type": "code",
   "execution_count": 1,
   "metadata": {},
   "outputs": [],
   "source": [
    "%load_ext autoreload\n",
    "%autoreload 2"
   ]
  },
  {
   "cell_type": "code",
   "execution_count": 2,
   "metadata": {},
   "outputs": [],
   "source": [
    "from network.examples import community, virus\n",
    "\n",
    "import matplotlib.pyplot as plt\n",
    "from IPython.display import HTML\n",
    "\n",
    "%matplotlib inline"
   ]
  },
  {
   "cell_type": "code",
   "execution_count": 3,
   "metadata": {},
   "outputs": [],
   "source": [
    "n_communities = 500\n",
    "community_size = 3\n",
    "orphans = 500\n",
    "\n",
    "total_ppl = n_communities * community_size + orphans"
   ]
  },
  {
   "cell_type": "code",
   "execution_count": null,
   "metadata": {},
   "outputs": [],
   "source": [
    "# assume 3 strong connections per person\n",
    "n_strong_conns = total_ppl * 3\n",
    "# assume 6 weak connections per person\n",
    "n_weak_conns = total_ppl * 6"
   ]
  },
  {
   "cell_type": "code",
   "execution_count": null,
   "metadata": {},
   "outputs": [],
   "source": [
    "strengths = {\n",
    "    'core': 0.8,\n",
    "    'strong': 0.75,\n",
    "    'weak': 0.1\n",
    "}"
   ]
  },
  {
   "cell_type": "code",
   "execution_count": null,
   "metadata": {},
   "outputs": [],
   "source": [
    "graph, node_community_map = community.community_graph(\n",
    "    n_communities, community_size, orphans,\n",
    "    n_strong_conns, n_weak_conns, strengths\n",
    ")"
   ]
  },
  {
   "cell_type": "code",
   "execution_count": null,
   "metadata": {},
   "outputs": [],
   "source": [
    "sim = virus.virus_simulation(\n",
    "    graph=graph,\n",
    "    patient0=1,\n",
    "    incubation_period=5,\n",
    "    contagious_for=0,\n",
    "    strengths=strengths\n",
    ")"
   ]
  },
  {
   "cell_type": "code",
   "execution_count": null,
   "metadata": {},
   "outputs": [],
   "source": [
    "drawer = community.community_drawer(\n",
    "    graph, node_community_map, rfactor=1.2, sparseness=1.5\n",
    ")"
   ]
  },
  {
   "cell_type": "code",
   "execution_count": null,
   "metadata": {},
   "outputs": [],
   "source": [
    "plt.rcParams['animation.html'] = 'jshtml'\n",
    "plt.figure(figsize=(14, 14))\n",
    "drawer.animate(sim, every=2, max_frames=50, arrows=False, s=20)"
   ]
  },
  {
   "cell_type": "code",
   "execution_count": null,
   "metadata": {},
   "outputs": [],
   "source": [
    "def sim_sequence(n):\n",
    "    for i in range(n):\n",
    "        sim.path(i)\n",
    "        if i < len(sim.history):\n",
    "            hist = sim.history[i]\n",
    "        else:\n",
    "            hist = sim.history[-1]\n",
    "        yield hist['broadcasts']\n",
    "\n",
    "plt.figure(figsize=(14, 14))\n",
    "plt.plot(range(70), list(sim_sequence(70)), 'bo')"
   ]
  },
  {
   "cell_type": "code",
   "execution_count": null,
   "metadata": {},
   "outputs": [],
   "source": [
    "sim.history[-1]"
   ]
  }
 ],
 "metadata": {
  "kernelspec": {
   "display_name": "storm_analysis_env",
   "language": "python",
   "name": "storm_analysis_env"
  },
  "language_info": {
   "codemirror_mode": {
    "name": "ipython",
    "version": 3
   },
   "file_extension": ".py",
   "mimetype": "text/x-python",
   "name": "python",
   "nbconvert_exporter": "python",
   "pygments_lexer": "ipython3",
   "version": "3.7.2"
  }
 },
 "nbformat": 4,
 "nbformat_minor": 4
}
