{
 "cells": [
  {
   "cell_type": "code",
   "execution_count": 3,
   "metadata": {},
   "outputs": [
    {
     "name": "stdout",
     "output_type": "stream",
     "text": [
      "The autoreload extension is already loaded. To reload it, use:\n",
      "  %reload_ext autoreload\n"
     ]
    }
   ],
   "source": [
    "%load_ext autoreload\n",
    "%autoreload 2"
   ]
  },
  {
   "cell_type": "code",
   "execution_count": 83,
   "metadata": {},
   "outputs": [],
   "source": [
    "from network.examples import community, virus\n",
    "from network.simulation import rv, test\n",
    "from network.randoms import fix_random\n",
    "from network.graph import Graph\n",
    "\n",
    "import random\n",
    "\n",
    "import matplotlib.pyplot as plt\n",
    "%matplotlib inline"
   ]
  },
  {
   "cell_type": "code",
   "execution_count": 84,
   "metadata": {},
   "outputs": [],
   "source": [
    "n_communities = 1000\n",
    "community_size = 3\n",
    "orphans = 1000\n",
    "total_ppl = n_communities * community_size + orphans\n",
    "\n",
    "# assume 3 strong connections per person\n",
    "n_strong_conns = total_ppl * 3\n",
    "# assume 6 weak connections per person\n",
    "n_weak_conns = total_ppl * 6\n",
    "\n",
    "core_kw = dict(strength=0.8)\n",
    "\n",
    "def strong_kw_func(strength):\n",
    "    def func():\n",
    "        days_together = random.randint(1, 5)\n",
    "        p_together = days_together / 7\n",
    "        return dict(strength=p_together * strength)\n",
    "\n",
    "    return func\n",
    "\n",
    "strong_kw = strong_kw_func(strength=0.8)\n",
    "weak_kw = dict(strength=0.1)\n",
    "\n",
    "def generate_graph():\n",
    "    graph, node_community_map = community.community_graph(\n",
    "        n_communities, community_size, orphans,\n",
    "        n_strong_conns, n_weak_conns,\n",
    "        core_kw=core_kw, strong_kw=strong_kw, weak_kw=weak_kw\n",
    "    )\n",
    "    return graph"
   ]
  },
  {
   "cell_type": "code",
   "execution_count": 85,
   "metadata": {},
   "outputs": [],
   "source": [
    "def reset_weak_edges(graph, strength):\n",
    "    edges_to_remove = [edge for edge in graph.iter_edges() if edge.attr('kind') == 'weak']\n",
    "    for prev_weak_edge in edges_to_remove:\n",
    "        graph.remove_edge(prev_weak_edge.nodes)\n",
    "\n",
    "    # generate edges will generate both outbound and inbound edges so we only need to /2\n",
    "    n_new_weak_edges = int(len(edges_to_remove) / 2)\n",
    "    for new_weak_edge in community.generate_edges(graph, n_new_weak_edges):\n",
    "        graph.add_edge(new_weak_edge, kind='weak', strength=strength)\n",
    "        \n",
    "def no_mitigation(transmission):\n",
    "    for step in transmission:\n",
    "        yield step\n",
    "        reset_weak_edges(transmission.graph, weak_kw['strength'])"
   ]
  },
  {
   "cell_type": "code",
   "execution_count": 105,
   "metadata": {},
   "outputs": [],
   "source": [
    "def enact_quarantine(graph):\n",
    "    def should_remove_edge(edge):\n",
    "        if edge.attr('kind') == 'strong':\n",
    "            return True\n",
    "        if edge.attr('kind') == 'weak' and test(0.75):\n",
    "            return True\n",
    "        return False\n",
    "    \n",
    "    edges_to_remove = [e for e in graph.iter_edges() if should_remove_edge(e)]\n",
    "    for edge in edges_to_remove:\n",
    "        graph.remove_edge(edge.nodes)\n",
    "\n",
    "def quarantine(quarantine_limit):\n",
    "    def runner(transmission):\n",
    "        broadcasts = 0\n",
    "        in_quarantine = False\n",
    "        for step in transmission:\n",
    "            yield step\n",
    "            dbroadcast = transmission.broadcasts - broadcasts\n",
    "            if dbroadcast > quarantine_limit and not in_quarantine:\n",
    "                print(f'Quarantine enacted at step: {transmission.steps}')\n",
    "                enact_quarantine(transmission.graph)\n",
    "                in_quarantine = True\n",
    "            else:\n",
    "                reset_weak_edges(transmission.graph, weak_kw['strength'])\n",
    "            broadcasts = transmission.broadcasts\n",
    "            \n",
    "    return runner"
   ]
  },
  {
   "cell_type": "code",
   "execution_count": 118,
   "metadata": {},
   "outputs": [],
   "source": [
    "def put_on_masks(graph, mask_factor=0.2, mask_factor_core=0.85, perc_masks=1.0):\n",
    "    for edge in graph.iter_edges():\n",
    "        if edge.attr('kind') == 'core':\n",
    "            graph.update_edge(edge.nodes, strength=mask_factor_core * edge.attr('strength'))  \n",
    "        elif test(perc_masks):\n",
    "            graph.update_edge(edge.nodes, strength=mask_factor * edge.attr('strength'))\n",
    "\n",
    "def masked_runner(mask_day, perc_masks):\n",
    "    def runner(transmission):\n",
    "        for step in transmission:\n",
    "            yield step\n",
    "            reset_weak_edges(transmission.graph, weak_kw['strength'])\n",
    "            if transmission.steps >= mask_day:\n",
    "                put_on_masks(transmission.graph, perc_masks=perc_masks)\n",
    "            \n",
    "    return runner"
   ]
  },
  {
   "cell_type": "code",
   "execution_count": 87,
   "metadata": {},
   "outputs": [],
   "source": [
    "def generate_sim(graph, runner):\n",
    "    return virus.virus_simulation(\n",
    "        graph=graph,\n",
    "        patient0=1,\n",
    "        incubation_period=rv.randint(2, 14),\n",
    "        contagious_for=rv.choice(0, 1, 7),\n",
    "        runner=runner\n",
    "    )"
   ]
  },
  {
   "cell_type": "code",
   "execution_count": 89,
   "metadata": {},
   "outputs": [],
   "source": [
    "graph0 = generate_graph()"
   ]
  },
  {
   "cell_type": "code",
   "execution_count": 119,
   "metadata": {},
   "outputs": [
    {
     "name": "stdout",
     "output_type": "stream",
     "text": [
      "Quarantine enacted at step: 20\n"
     ]
    }
   ],
   "source": [
    "graph_quarantine40 = Graph.duplicate(graph0)\n",
    "quarantine_40 = generate_sim(graph_quarantine40, quarantine(40))\n",
    "\n",
    "with fix_random():\n",
    "    quarantine_40.path(70)"
   ]
  },
  {
   "cell_type": "code",
   "execution_count": 91,
   "metadata": {},
   "outputs": [
    {
     "name": "stdout",
     "output_type": "stream",
     "text": [
      "Quarantine enacted at step: 35\n"
     ]
    }
   ],
   "source": [
    "# graph_quarantine80 = Graph.duplicate(graph0)\n",
    "# quarantine_80 = generate_sim(graph_quarantine80, quarantine(80))\n",
    "\n",
    "# with fix_random():\n",
    "#     quarantine_80.path(70)"
   ]
  },
  {
   "cell_type": "code",
   "execution_count": 92,
   "metadata": {},
   "outputs": [],
   "source": [
    "graph_control = Graph.duplicate(graph0)\n",
    "control = generate_sim(graph_control, no_mitigation)\n",
    "\n",
    "with fix_random():\n",
    "    control.path(70)"
   ]
  },
  {
   "cell_type": "code",
   "execution_count": 140,
   "metadata": {},
   "outputs": [],
   "source": [
    "graph_masked = Graph.duplicate(graph0)\n",
    "masked = generate_sim(graph_masked, masked_runner(20, perc_masks=0.95))\n",
    "\n",
    "with fix_random():\n",
    "    masked.path(70)"
   ]
  },
  {
   "cell_type": "code",
   "execution_count": 132,
   "metadata": {},
   "outputs": [],
   "source": [
    "graph_masked_late = Graph.duplicate(graph0)\n",
    "masked_late = generate_sim(graph_masked_late, masked_runner(31, perc_masks=0.95))\n",
    "\n",
    "with fix_random():\n",
    "    masked_late.path(70)"
   ]
  },
  {
   "cell_type": "code",
   "execution_count": 146,
   "metadata": {},
   "outputs": [],
   "source": [
    "graph_masked_early = Graph.duplicate(graph0)\n",
    "masked_early = generate_sim(graph_masked_early, masked_runner(14, perc_masks=0.95))\n",
    "\n",
    "with fix_random():\n",
    "    masked_early.path(70)"
   ]
  },
  {
   "cell_type": "code",
   "execution_count": 150,
   "metadata": {},
   "outputs": [],
   "source": [
    "graph_masked_less = Graph.duplicate(graph0)\n",
    "masked_less = generate_sim(graph_masked_less, masked_runner(20, perc_masks=0.65))\n",
    "\n",
    "with fix_random():\n",
    "    masked_less.path(70)"
   ]
  },
  {
   "cell_type": "code",
   "execution_count": 152,
   "metadata": {},
   "outputs": [
    {
     "data": {
      "image/png": "[encoded data removed]",
      "text/plain": [
       "<Figure size 1008x1008 with 1 Axes>"
      ]
     },
     "metadata": {
      "needs_background": "light"
     },
     "output_type": "display_data"
    }
   ],
   "source": [
    "def sim_sequence(sim, n):\n",
    "    for i in range(n):\n",
    "        yield sim.history[i]['broadcasts']\n",
    "\n",
    "plt.figure(figsize=(14, 14))\n",
    "for sim in (masked, quarantine_40, control):\n",
    "    plt.plot(range(70), list(sim_sequence(sim, 70)), 'o-')"
   ]
  }
 ],
 "metadata": {
  "kernelspec": {
   "display_name": "storm_analysis_env",
   "language": "python",
   "name": "storm_analysis_env"
  },
  "language_info": {
   "codemirror_mode": {
    "name": "ipython",
    "version": 3
   },
   "file_extension": ".py",
   "mimetype": "text/x-python",
   "name": "python",
   "nbconvert_exporter": "python",
   "pygments_lexer": "ipython3",
   "version": "3.7.2"
  }
 },
 "nbformat": 4,
 "nbformat_minor": 4
}
