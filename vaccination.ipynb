{
 "cells": [
  {
   "cell_type": "code",
   "execution_count": 61,
   "metadata": {},
   "outputs": [],
   "source": [
    "from network.examples import community, virus\n",
    "from network.simulation import rv, test, run_simulations, create_runner\n",
    "from network.randoms import fix_random\n",
    "from network.graph import Graph\n",
    "\n",
    "import random\n",
    "from itertools import chain\n",
    "from functools import partial\n",
    "\n",
    "import numpy as np\n",
    "import matplotlib.pyplot as plt\n",
    "%matplotlib inline"
   ]
  },
  {
   "cell_type": "markdown",
   "metadata": {},
   "source": [
    "## Parameters of simulation"
   ]
  },
  {
   "cell_type": "markdown",
   "metadata": {},
   "source": [
    "To start, we construct a graph based on the idea of \"communities\", that is, sub-groups within the graph whose members have close connections with one another. These simulate the existence of families, households, and roommates. I call these **core connections**. \n",
    "\n",
    "Outside of core connections exist **strong connections**, those between people of different households but still have significant interaction/time spent together. Examples of these include coworkers and friends hanging out together.\n",
    "\n",
    "Finally, we have we **weak connections**, where people of different households engage in casual, limited contact. These include people you only briefly interact with at work, a casual conversation with a stranger, or service workers engaging with customers.\n",
    "\n",
    "**Graph parameters**\n",
    "\n",
    "* `n_communities` = number of communities/households\n",
    "* `community_size` = household size\n",
    "* `orphans` = number of single people with only outside connections\n",
    "* `total_people` = total # of people in simulation, calculated by adding people in households to number of \"orphans\"\n",
    "* `n_strong_conns` = total # of strong connections in the graph. I generally put it as some multiple of people in the simulation - for example, if each person had 3 strong connections outside their household, this would be `3 * total_people`.\n",
    "* `n_weak_conns` = total # of weak connections in the graph. Similar idea as `n_strong_conns`.\n",
    "\n",
    "**Strength parameters**\n",
    "\n",
    "Each category of connections has an average _strength_, a measure of the likelihood of transmission across those edges. Not surprisingly, core connections would have the highest strength, followed by strong and then weak connections, based on time and closeness spent together in a closed space. These are set in `core_strength`, `strong_strength`, and `weak_strength`.\n",
    "\n",
    "Regarding strong connections, we assume they are persistent - the people you interact closely with outside your household generally stays the same through a given period of time. For example, the coworkers and friends you interact with today, you'll likely interact with tomorrow as well. The same cannot be said for a customer at a restaurant who acts as a weak interaction for a waiter.\n",
    "\n",
    "* `p_strong_interact` = probability on any given day any given strong interaction will recur.\n",
    "\n",
    "With those parameters set, we can generate a base or template graph which we will use in our simulations, stored in the variable `graph0`."
   ]
  },
  {
   "cell_type": "code",
   "execution_count": 108,
   "metadata": {},
   "outputs": [],
   "source": [
    "n_communities = 800\n",
    "community_size = 3\n",
    "orphans = 800\n",
    "total_ppl = n_communities * community_size + orphans\n",
    "\n",
    "n_strong_conns = int(total_ppl * 1.5)\n",
    "n_weak_conns = n_strong_conns\n",
    "\n",
    "core_strength = 0.6\n",
    "strong_strength = 0.4\n",
    "# core_strength = 0.95\n",
    "# strong_strength = 0.95\n",
    "p_strong_interact = 5 / 7\n",
    "weak_strength = 0.1\n",
    "\n",
    "def generate_graph():\n",
    "    graph, node_community_map = community.community_graph(\n",
    "        n_communities, community_size, orphans,\n",
    "        n_strong_conns, n_weak_conns,\n",
    "        core_kw={'strength': core_strength}, \n",
    "        strong_kw={'strength': strong_strength}, \n",
    "        weak_kw={'strength': weak_strength}\n",
    "    )\n",
    "    return graph\n",
    "\n",
    "with fix_random():\n",
    "    graph0 = generate_graph()"
   ]
  },
  {
   "cell_type": "markdown",
   "metadata": {},
   "source": [
    "## Vaccinate \"essential workers\" first (order by number of strong connections)"
   ]
  },
  {
   "cell_type": "code",
   "execution_count": 109,
   "metadata": {},
   "outputs": [],
   "source": [
    "def ct_strong_edges(node):\n",
    "    strong_edges = [edge for edge in graph0.outbound_edges(node) if edge.attr('kind') == 'strong']\n",
    "    return len(strong_edges)\n",
    "\n",
    "node_edge_ct = {node: ct_strong_edges(node) for node in graph0.nodes}"
   ]
  },
  {
   "cell_type": "code",
   "execution_count": 110,
   "metadata": {},
   "outputs": [
    {
     "data": {
      "text/plain": [
       "(array([166., 473., 717., 711., 527., 341., 155.,  76.,  23.,  11.]),\n",
       " array([ 0.,  1.,  2.,  3.,  4.,  5.,  6.,  7.,  8.,  9., 10.]),\n",
       " <BarContainer object of 10 artists>)"
      ]
     },
     "execution_count": 110,
     "metadata": {},
     "output_type": "execute_result"
    },
    {
     "data": {
      "image/png": "[encoded data removed]",
      "text/plain": [
       "<Figure size 432x288 with 1 Axes>"
      ]
     },
     "metadata": {
      "needs_background": "light"
     },
     "output_type": "display_data"
    }
   ],
   "source": [
    "plt.hist(node_edge_ct.values())"
   ]
  },
  {
   "cell_type": "code",
   "execution_count": 111,
   "metadata": {},
   "outputs": [
    {
     "data": {
      "text/plain": [
       "(3.0, 1.7322312201320007)"
      ]
     },
     "execution_count": 111,
     "metadata": {},
     "output_type": "execute_result"
    }
   ],
   "source": [
    "np.mean(list(node_edge_ct.values())), np.std(list(node_edge_ct.values()))"
   ]
  },
  {
   "cell_type": "code",
   "execution_count": 112,
   "metadata": {},
   "outputs": [],
   "source": [
    "def vaccination_order_by_edges(deaths):\n",
    "    first_priority = []\n",
    "    second_priority = []\n",
    "    third_priority = []\n",
    "    \n",
    "    edge_ct_values = list(node_edge_ct.values())\n",
    "    u = np.mean(edge_ct_values)\n",
    "    sd = np.std(edge_ct_values)\n",
    "    for node, strong_edge_ct in node_edge_ct.items():\n",
    "        if strong_edge_ct > u + 2 * sd:\n",
    "            first_priority.append(node)\n",
    "        elif u + 2 * sd >= strong_edge_ct > u + sd:\n",
    "            second_priority.append(node)\n",
    "        else:\n",
    "            third_priority.append(node)\n",
    "    \n",
    "    random.shuffle(first_priority)\n",
    "    random.shuffle(second_priority)\n",
    "    random.shuffle(third_priority)\n",
    "    \n",
    "    for node in chain(first_priority, second_priority, third_priority):\n",
    "        if node not in deaths:\n",
    "            yield node"
   ]
  },
  {
   "cell_type": "markdown",
   "metadata": {},
   "source": [
    "## Vaccinate by probability of death --> elderly (strongly linked to age) first "
   ]
  },
  {
   "cell_type": "code",
   "execution_count": 113,
   "metadata": {},
   "outputs": [],
   "source": [
    "def generate_age():\n",
    "    x = random.uniform(0, 1)\n",
    "    if x < 0.1:\n",
    "        return random.uniform(60, 70)\n",
    "    elif 0.1 <= x < 0.15:\n",
    "        return random.uniform(70, 80)\n",
    "    elif 0.15 <= x < 0.186:\n",
    "        return random.uniform(80, 90)\n",
    "    else:\n",
    "        return random.uniform(0, 60)\n",
    "\n",
    "def assign_p_death(graph, max_age=90, max_p_death=0.7, decay_factor=8):\n",
    "    result = {}\n",
    "    for node in graph.nodes:\n",
    "        age = generate_age()\n",
    "        diff = max_age - age\n",
    "        p_death = max_p_death * np.exp(-diff / (max_age / decay_factor))\n",
    "        result[node] = p_death\n",
    "    return result\n",
    "\n",
    "p_deaths = assign_p_death(graph0)"
   ]
  },
  {
   "cell_type": "code",
   "execution_count": 114,
   "metadata": {},
   "outputs": [
    {
     "data": {
      "text/plain": [
       "(array([2721.,  232.,   54.,   53.,   34.,   23.,   29.,   27.,   18.,\n",
       "           9.]),\n",
       " array([2.34902416e-04, 6.90961034e-02, 1.37957304e-01, 2.06818505e-01,\n",
       "        2.75679706e-01, 3.44540907e-01, 4.13402108e-01, 4.82263309e-01,\n",
       "        5.51124510e-01, 6.19985711e-01, 6.88846912e-01]),\n",
       " <BarContainer object of 10 artists>)"
      ]
     },
     "execution_count": 114,
     "metadata": {},
     "output_type": "execute_result"
    },
    {
     "data": {
      "image/png": "[encoded data removed]",
      "text/plain": [
       "<Figure size 432x288 with 1 Axes>"
      ]
     },
     "metadata": {
      "needs_background": "light"
     },
     "output_type": "display_data"
    }
   ],
   "source": [
    "plt.hist(p_deaths.values())"
   ]
  },
  {
   "cell_type": "code",
   "execution_count": 133,
   "metadata": {},
   "outputs": [
    {
     "data": {
      "text/plain": [
       "0.0431514052132774"
      ]
     },
     "execution_count": 133,
     "metadata": {},
     "output_type": "execute_result"
    }
   ],
   "source": [
    "np.mean(list(p_deaths.values()))"
   ]
  },
  {
   "cell_type": "code",
   "execution_count": 115,
   "metadata": {},
   "outputs": [],
   "source": [
    "def vaccination_order_by_p_death(deaths):\n",
    "    first_priority = []\n",
    "    second_priority = []\n",
    "    third_priority = []\n",
    "    for node, p_death in p_deaths.items():\n",
    "        if p_death > 0.15:\n",
    "            first_priority.append(node)\n",
    "        elif 0.05 < p_death <= 0.15:\n",
    "            second_priority.append(node)\n",
    "        else:\n",
    "            third_priority.append(node)\n",
    "            \n",
    "    random.shuffle(first_priority)\n",
    "    random.shuffle(second_priority)\n",
    "    random.shuffle(third_priority)\n",
    "    \n",
    "    for node in chain(first_priority, second_priority, third_priority):\n",
    "        if node not in deaths:\n",
    "            yield node"
   ]
  },
  {
   "cell_type": "code",
   "execution_count": 116,
   "metadata": {},
   "outputs": [],
   "source": [
    "def reset_non_core_edges(transmission):\n",
    "    graph = transmission.graph\n",
    "    weak_edges_to_remove = [edge for edge in graph.iter_edges() if edge.attr('kind') == 'weak']\n",
    "    for prev_weak_edge in weak_edges_to_remove:\n",
    "        graph.remove_edge(prev_weak_edge)\n",
    "        \n",
    "    strong_edges = [edge for edge in graph.iter_edges() if edge.attr('kind') == 'strong']\n",
    "\n",
    "    n_new_weak_edges = len(weak_edges_to_remove)\n",
    "    for new_weak_edge in community.generate_edges(graph, n_new_weak_edges):\n",
    "        graph.add_edge(new_weak_edge, kind='weak', strength=weak_strength)\n",
    "        \n",
    "    for edge in strong_edges:\n",
    "        new_strength = strong_strength if test(p_strong_interact) else 0\n",
    "        graph.update_edge(edge, strength=new_strength)\n",
    "        \n",
    "class _VaccineItr:\n",
    "    def __init__(self, runner, transmission):\n",
    "        self.transmission = transmission\n",
    "        self.start_vaccine_day = runner.start_vaccine_day\n",
    "        self.daily_vaccinations = runner.daily_vaccinations\n",
    "        self.runner = runner\n",
    "        self.rollout = runner.rollout\n",
    "        \n",
    "    def __next__(self):\n",
    "        if self.transmission.steps >= self.start_vaccine_day:\n",
    "            try:\n",
    "                for _ in range(self.daily_vaccinations):\n",
    "                    self.runner.vaccinated.add(next(self.rollout))\n",
    "            except StopIteration:\n",
    "                pass\n",
    "            \n",
    "        # tally deaths\n",
    "        tracker = self.transmission.broadcast_tracker\n",
    "        for node in tracker:\n",
    "            if tracker.get(node, 9999) <= 0:\n",
    "                if node not in self.runner.survived and test(p_deaths.get(node, 0)):\n",
    "                    self.runner.deaths.add(node)\n",
    "                else:\n",
    "                    self.runner.survived.add(node)\n",
    "                    \n",
    "        # reset weak edges\n",
    "        reset_non_core_edges(self.transmission)\n",
    "        next(self.transmission)\n",
    "        \n",
    "        \n",
    "class VaccineRunner:\n",
    "    def __init__(self, rollout, start_vaccine_day, daily_vaccinations):\n",
    "        self.start_vaccine_day = start_vaccine_day\n",
    "        self.daily_vaccinations = daily_vaccinations\n",
    "        \n",
    "        self.deaths = set()\n",
    "        self.survived = set()\n",
    "        self.vaccinated = set()\n",
    "        self.rollout = rollout(self.deaths)\n",
    "        \n",
    "    def __call__(self, transmission):\n",
    "        return _VaccineItr(self, transmission)"
   ]
  },
  {
   "cell_type": "code",
   "execution_count": 117,
   "metadata": {},
   "outputs": [],
   "source": [
    "def test_transmit(transmission, edge, vaccinated, vaccine_factor=0.05):\n",
    "    edge_strength = edge.attr('strength')\n",
    "    if edge.to_node in vaccinated:\n",
    "        return test(edge_strength * vaccine_factor)\n",
    "    return test(edge_strength)\n",
    "\n",
    "def generate_sim(graph, runner):\n",
    "    with fix_random():\n",
    "        return virus.virus_simulation(\n",
    "            graph=Graph.duplicate(graph),\n",
    "            patient0=1,\n",
    "            incubation_period=incubation_period,\n",
    "            contagious_for=contagious_for,\n",
    "            runner=runner,\n",
    "            test_transmit=partial(test_transmit, vaccinated=runner.vaccinated)\n",
    "        )"
   ]
  },
  {
   "cell_type": "code",
   "execution_count": 150,
   "metadata": {},
   "outputs": [],
   "source": [
    "action_day = 50\n",
    "run_to = 100\n",
    "incubation_period = rv.randint(1, 10)\n",
    "contagious_for = rv.choice(0, 1, 2)\n",
    "daily_vaccinations = 50\n",
    "\n",
    "# action_day = 5\n",
    "# run_to = 80\n",
    "# daily_vaccinations = 10\n",
    "# incubation_period = rv.randint(1, 3)\n",
    "# contagious_for = rv.choice(0, 1, 2)"
   ]
  },
  {
   "cell_type": "code",
   "execution_count": 152,
   "metadata": {},
   "outputs": [],
   "source": [
    "control_runner = VaccineRunner(\n",
    "    rollout=vaccination_order_by_p_death,\n",
    "    start_vaccine_day=9999,\n",
    "    daily_vaccinations=daily_vaccinations\n",
    ")\n",
    "control = generate_sim(graph0, control_runner)\n",
    "\n",
    "result_control = run_simulations(\n",
    "    control, to=run_to\n",
    ")"
   ]
  },
  {
   "cell_type": "code",
   "execution_count": 153,
   "metadata": {},
   "outputs": [],
   "source": [
    "vaccinate_elderly_first_runner = VaccineRunner(\n",
    "    rollout=vaccination_order_by_p_death,\n",
    "    start_vaccine_day=action_day,\n",
    "    daily_vaccinations=daily_vaccinations\n",
    ")\n",
    "vaccinate_elderly_first = generate_sim(graph0, vaccinate_elderly_first_runner)\n",
    "\n",
    "result_elderly = run_simulations(\n",
    "    vaccinate_elderly_first,\n",
    "    to=run_to\n",
    ")"
   ]
  },
  {
   "cell_type": "code",
   "execution_count": 154,
   "metadata": {},
   "outputs": [],
   "source": [
    "vaccinate_essential_first_runner = VaccineRunner(\n",
    "    rollout=vaccination_order_by_edges,\n",
    "    start_vaccine_day=action_day,\n",
    "    daily_vaccinations=daily_vaccinations\n",
    ")\n",
    "vaccinate_essential_first = generate_sim(graph0, vaccinate_essential_first_runner)\n",
    "\n",
    "result_essential = run_simulations(\n",
    "    vaccinate_essential_first,\n",
    "    to=run_to\n",
    ")"
   ]
  },
  {
   "cell_type": "code",
   "execution_count": 155,
   "metadata": {},
   "outputs": [
    {
     "data": {
      "text/plain": [
       "(122, 64, 111)"
      ]
     },
     "execution_count": 155,
     "metadata": {},
     "output_type": "execute_result"
    }
   ],
   "source": [
    "len(control_runner.deaths), len(vaccinate_elderly_first_runner.deaths), len(vaccinate_essential_first_runner.deaths)"
   ]
  },
  {
   "cell_type": "code",
   "execution_count": 156,
   "metadata": {},
   "outputs": [],
   "source": [
    "def sim_sequence(sim, n):\n",
    "    for i in range(n):\n",
    "        index = -1 if i >= len(sim.history) else i\n",
    "        yield sim.history[index].broadcasts\n",
    "\n",
    "def plot(results, labels=None):\n",
    "    fig = plt.figure(figsize=(12, 12))\n",
    "    plt.title('Virus transmission vs. T (days)', fontsize=16)\n",
    "    lines = []\n",
    "    for sim in results:\n",
    "        line, = plt.plot(range(run_to), list(sim_sequence(sim, run_to)), 'o-')\n",
    "        lines.append(line)\n",
    "\n",
    "    if labels:\n",
    "        plt.legend(lines, labels, loc='upper left')\n",
    "    plt.xlabel('Days elapsed')\n",
    "    plt.ylabel('Cases')"
   ]
  },
  {
   "cell_type": "code",
   "execution_count": 157,
   "metadata": {},
   "outputs": [
    {
     "data": {
      "image/png": "[encoded data removed]",
      "text/plain": [
       "<Figure size 864x864 with 1 Axes>"
      ]
     },
     "metadata": {
      "needs_background": "light"
     },
     "output_type": "display_data"
    }
   ],
   "source": [
    "plot(\n",
    "    [control, result_elderly, result_essential],\n",
    "    ['Control', 'Vaccinate elderly first', 'Vaccinate essential workers first']\n",
    ")"
   ]
  }
 ],
 "metadata": {
  "kernelspec": {
   "display_name": "pathos_env",
   "language": "python",
   "name": "pathos_env"
  },
  "language_info": {
   "codemirror_mode": {
    "name": "ipython",
    "version": 3
   },
   "file_extension": ".py",
   "mimetype": "text/x-python",
   "name": "python",
   "nbconvert_exporter": "python",
   "pygments_lexer": "ipython3",
   "version": "3.8.5"
  }
 },
 "nbformat": 4,
 "nbformat_minor": 4
}
