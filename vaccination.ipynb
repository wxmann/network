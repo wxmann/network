{
 "cells": [
  {
   "cell_type": "code",
   "execution_count": 61,
   "metadata": {},
   "outputs": [],
   "source": [
    "from network.examples import community, virus\n",
    "from network.simulation import rv, test, run_simulations, create_runner\n",
    "from network.randoms import fix_random\n",
    "from network.graph import Graph\n",
    "\n",
    "import random\n",
    "from itertools import chain\n",
    "from functools import partial\n",
    "\n",
    "import numpy as np\n",
    "import matplotlib.pyplot as plt\n",
    "%matplotlib inline"
   ]
  },
  {
   "cell_type": "markdown",
   "metadata": {},
   "source": [
    "# Structure of the network"
   ]
  },
  {
   "cell_type": "markdown",
   "metadata": {},
   "source": [
    "We start formulating the structure of the graph on the idea of \"communities\", that is, sub-groups within the graph whose members have close connections with one another. These simulate the existence of families, households, and roommates. I call these **core connections**. \n",
    "\n",
    "Outside of core connections exist **strong connections**, those between people of different households but still have significant interaction/time spent together. Examples of these include coworkers and friends hanging out together.\n",
    "\n",
    "Finally, we have we **weak connections**, where people of different households engage in casual, limited contact. These include people you only briefly interact with at work, a casual conversation with a stranger, or service workers engaging with customers.\n",
    "\n",
    "**Graph parameters**\n",
    "\n",
    "* `n_communities` = number of communities/households\n",
    "* `community_size` = household size\n",
    "* `orphans` = number of single people with only outside connections\n",
    "* `total_people` = total # of people in simulation, calculated by adding people in households to number of \"orphans\"\n",
    "* `n_strong_conns` = total # of strong connections in the graph. I generally put it as some multiple of people in the simulation - for example, if each person had 3 strong connections outside their household, this would be `1.5 * total_people`.\n",
    "* `n_weak_conns` = total # of weak connections in the graph. Similar idea as `n_strong_conns`.\n",
    "\n",
    "**Strength parameters**\n",
    "\n",
    "Each category of connections has an average _strength_, a measure of the likelihood of transmission across those edges. Not surprisingly, core connections would have the highest strength, followed by strong and then weak connections, based on time and closeness spent together in a closed space. These are set in `core_strength`, `strong_strength`, and `weak_strength`.\n",
    "\n",
    "Regarding strong connections, we assume they are persistent - the people you interact closely with outside your household generally stays the same through a given period of time. For example, the coworkers and friends you interact with today, you'll likely interact with tomorrow as well. The same cannot be said for a customer at a restaurant who acts as a weak interaction for a waiter.\n",
    "\n",
    "* `p_strong_interact` = probability on any given day any given strong interaction will recur.\n",
    "\n",
    "With those parameters set, we can generate a base or template graph which we will use in our simulations, stored in the variable `graph0`."
   ]
  },
  {
   "cell_type": "code",
   "execution_count": 237,
   "metadata": {},
   "outputs": [],
   "source": [
    "n_communities = 800\n",
    "community_size = 3\n",
    "orphans = 800\n",
    "total_ppl = n_communities * community_size + orphans\n",
    "\n",
    "n_strong_conns = int(total_ppl * 1.5)\n",
    "n_weak_conns = n_strong_conns\n",
    "\n",
    "core_strength = 0.6\n",
    "strong_strength = 0.4\n",
    "p_strong_interact = 5 / 7\n",
    "weak_strength = 0.1\n",
    "\n",
    "def generate_graph():\n",
    "    graph, node_community_map = community.community_graph(\n",
    "        n_communities, community_size, orphans,\n",
    "        n_strong_conns, n_weak_conns,\n",
    "        core_kw={'strength': core_strength}, \n",
    "        strong_kw={'strength': strong_strength}, \n",
    "        weak_kw={'strength': weak_strength}\n",
    "    )\n",
    "    return graph\n",
    "\n",
    "with fix_random():\n",
    "    graph0 = generate_graph()"
   ]
  },
  {
   "cell_type": "markdown",
   "metadata": {},
   "source": [
    "# Vaccine Rollout Strategies"
   ]
  },
  {
   "cell_type": "markdown",
   "metadata": {},
   "source": [
    "## Rollout strategy #1 - randomly select people to vaccinate"
   ]
  },
  {
   "cell_type": "markdown",
   "metadata": {},
   "source": [
    "Control strategy - completely random rollout."
   ]
  },
  {
   "cell_type": "code",
   "execution_count": 289,
   "metadata": {},
   "outputs": [],
   "source": [
    "def vaccination_random(runner):\n",
    "    nodes = [n for n in graph0.nodes]\n",
    "    with fix_random():\n",
    "        random.shuffle(nodes)\n",
    "    return (n for n in nodes if n not in runner.deaths)"
   ]
  },
  {
   "cell_type": "markdown",
   "metadata": {},
   "source": [
    "## Rollout strategy #2 - prioritized those who haven't gotten the virus yet"
   ]
  },
  {
   "cell_type": "markdown",
   "metadata": {},
   "source": [
    "Those who have already gotten the virus are supposedly more immune to it (in this simulation they are _completely_ immune). So this strategy starts vaccinating those who don't have immunity."
   ]
  },
  {
   "cell_type": "code",
   "execution_count": 276,
   "metadata": {},
   "outputs": [],
   "source": [
    "def vaccination_skipping_survivors(runner):\n",
    "    nodes = [n for n in graph0.nodes]\n",
    "    with fix_random():\n",
    "        random.shuffle(nodes)\n",
    "    g1 = (n for n in nodes if n not in runner.deaths and n not in runner.survived)\n",
    "    g2 = (n for n in nodes if n not in runner.deaths and n not in runner.vaccinated)\n",
    "    return chain(g1, g2)"
   ]
  },
  {
   "cell_type": "markdown",
   "metadata": {},
   "source": [
    "## Rollout strategy #3 - Vaccinate \"essential workers\" first"
   ]
  },
  {
   "cell_type": "markdown",
   "metadata": {},
   "source": [
    "In this case we define essential workers as those who have a larger than normal number of strong connections in the network, which obeys a sort of log-normal distribution (see below). We'll rollout based on the number of SD's above average strong connection count. (Start with those above 2 SD, then move to 1 SD, then everyone else.)"
   ]
  },
  {
   "cell_type": "code",
   "execution_count": 238,
   "metadata": {},
   "outputs": [],
   "source": [
    "def ct_strong_edges(node):\n",
    "    strong_edges = [edge for edge in graph0.outbound_edges(node) if edge.attr('kind') == 'strong']\n",
    "    return len(strong_edges)\n",
    "\n",
    "node_edge_ct = {node: ct_strong_edges(node) for node in graph0.nodes}"
   ]
  },
  {
   "cell_type": "code",
   "execution_count": 239,
   "metadata": {},
   "outputs": [
    {
     "data": {
      "text/plain": [
       "(array([166., 473., 717., 711., 527., 341., 155.,  76.,  23.,  11.]),\n",
       " array([ 0.,  1.,  2.,  3.,  4.,  5.,  6.,  7.,  8.,  9., 10.]),\n",
       " <BarContainer object of 10 artists>)"
      ]
     },
     "execution_count": 239,
     "metadata": {},
     "output_type": "execute_result"
    },
    {
     "data": {
      "image/png": "[encoded data removed]",
      "text/plain": [
       "<Figure size 432x288 with 1 Axes>"
      ]
     },
     "metadata": {
      "needs_background": "light"
     },
     "output_type": "display_data"
    }
   ],
   "source": [
    "plt.hist(node_edge_ct.values())"
   ]
  },
  {
   "cell_type": "code",
   "execution_count": 240,
   "metadata": {},
   "outputs": [
    {
     "data": {
      "text/plain": [
       "(3.0, 1.7322312201320007)"
      ]
     },
     "execution_count": 240,
     "metadata": {},
     "output_type": "execute_result"
    }
   ],
   "source": [
    "np.mean(list(node_edge_ct.values())), np.std(list(node_edge_ct.values()))"
   ]
  },
  {
   "cell_type": "code",
   "execution_count": 282,
   "metadata": {},
   "outputs": [],
   "source": [
    "def vaccination_order_by_edges(runner):\n",
    "    first_priority = []\n",
    "    second_priority = []\n",
    "    third_priority = []\n",
    "    \n",
    "    edge_ct_values = list(node_edge_ct.values())\n",
    "    u = np.mean(edge_ct_values)\n",
    "    sd = np.std(edge_ct_values)\n",
    "    for node, strong_edge_ct in node_edge_ct.items():\n",
    "        if strong_edge_ct > u + 2 * sd:\n",
    "            first_priority.append(node)\n",
    "        elif u + 2 * sd >= strong_edge_ct > u + sd:\n",
    "            second_priority.append(node)\n",
    "        else:\n",
    "            third_priority.append(node)\n",
    "    \n",
    "    with fix_random():\n",
    "        random.shuffle(first_priority)\n",
    "        random.shuffle(second_priority)\n",
    "        random.shuffle(third_priority)\n",
    "    \n",
    "    for node in chain(first_priority, second_priority, third_priority):\n",
    "        if node not in runner.deaths:\n",
    "            yield node"
   ]
  },
  {
   "cell_type": "markdown",
   "metadata": {},
   "source": [
    "## Rollout strategy #4: Vaccinate by probability of death/age"
   ]
  },
  {
   "cell_type": "markdown",
   "metadata": {},
   "source": [
    "We're going to assume this imaginary virus has a mortality rate that increases exponentially with age (similar to the real mortality rate of COVID). Each person is assigned a random age that obeys a similar probability distribution to that of real-life US demographics, then the probability-of-death is determined by the age.\n",
    "\n",
    "The average mortality rate of the virus over all ages is fixed to 4% - slightly higher than COVID, but I need a larger sample size of deaths.\n",
    "\n",
    "Probability of death from virus is stored and saved in `p_deaths` to be used as parameters in the simulation."
   ]
  },
  {
   "cell_type": "code",
   "execution_count": 242,
   "metadata": {},
   "outputs": [],
   "source": [
    "def generate_age():\n",
    "    x = random.uniform(0, 1)\n",
    "    if x < 0.1:\n",
    "        return random.uniform(60, 70)\n",
    "    elif 0.1 <= x < 0.15:\n",
    "        return random.uniform(70, 80)\n",
    "    elif 0.15 <= x < 0.186:\n",
    "        return random.uniform(80, 90)\n",
    "    else:\n",
    "        return random.uniform(0, 60)\n",
    "\n",
    "def assign_p_death(graph, max_age=90, max_p_death=0.7, decay_factor=8):\n",
    "    result = {}\n",
    "    for node in graph.nodes:\n",
    "        age = generate_age()\n",
    "        diff = max_age - age\n",
    "        p_death = max_p_death * np.exp(-diff / (max_age / decay_factor))\n",
    "        result[node] = p_death\n",
    "    return result\n",
    "\n",
    "p_deaths = assign_p_death(graph0)"
   ]
  },
  {
   "cell_type": "code",
   "execution_count": 243,
   "metadata": {},
   "outputs": [
    {
     "data": {
      "text/plain": [
       "(array([2735.,  230.,   80.,   46.,   34.,   22.,   19.,   14.,   12.,\n",
       "           8.]),\n",
       " array([2.35056010e-04, 7.01607413e-02, 1.40086426e-01, 2.10012112e-01,\n",
       "        2.79937797e-01, 3.49863482e-01, 4.19789167e-01, 4.89714853e-01,\n",
       "        5.59640538e-01, 6.29566223e-01, 6.99491908e-01]),\n",
       " <BarContainer object of 10 artists>)"
      ]
     },
     "execution_count": 243,
     "metadata": {},
     "output_type": "execute_result"
    },
    {
     "data": {
      "image/png": "[encoded data removed]",
      "text/plain": [
       "<Figure size 432x288 with 1 Axes>"
      ]
     },
     "metadata": {
      "needs_background": "light"
     },
     "output_type": "display_data"
    }
   ],
   "source": [
    "plt.hist(p_deaths.values())"
   ]
  },
  {
   "cell_type": "code",
   "execution_count": 244,
   "metadata": {},
   "outputs": [
    {
     "data": {
      "text/plain": [
       "0.03935912529565273"
      ]
     },
     "execution_count": 244,
     "metadata": {},
     "output_type": "execute_result"
    }
   ],
   "source": [
    "np.mean(list(p_deaths.values()))"
   ]
  },
  {
   "cell_type": "code",
   "execution_count": 283,
   "metadata": {},
   "outputs": [],
   "source": [
    "def vaccination_order_by_p_death(runner):\n",
    "    first_priority = []\n",
    "    second_priority = []\n",
    "    third_priority = []\n",
    "    for node, p_death in p_deaths.items():\n",
    "        if p_death > 0.15:\n",
    "            first_priority.append(node)\n",
    "        elif 0.05 < p_death <= 0.15:\n",
    "            second_priority.append(node)\n",
    "        else:\n",
    "            third_priority.append(node)\n",
    "            \n",
    "    with fix_random():\n",
    "        random.shuffle(first_priority)\n",
    "        random.shuffle(second_priority)\n",
    "        random.shuffle(third_priority)\n",
    "    \n",
    "    for node in chain(first_priority, second_priority, third_priority):\n",
    "        if node not in runner.deaths:\n",
    "            yield node"
   ]
  },
  {
   "cell_type": "markdown",
   "metadata": {},
   "source": [
    "# Running the simulation"
   ]
  },
  {
   "cell_type": "markdown",
   "metadata": {},
   "source": [
    "## Runner"
   ]
  },
  {
   "cell_type": "markdown",
   "metadata": {},
   "source": [
    "The runner takes the following inputs:\n",
    "1. Rollout strategy (explained above)\n",
    "2. First day of vaccinations\n",
    "3. Rate of vaccinations per day"
   ]
  },
  {
   "cell_type": "markdown",
   "metadata": {},
   "source": [
    "The runner executes the following:\n",
    "1. Apply vaccinations if we're on the first day of vaccinations\n",
    "2. Determines whether a person dies or survives of the virus after transmissible period, based on previously assigned probability of death above.\n",
    "3. Reset weak edges to simulate random people-to-people interactions shifting day-to-day"
   ]
  },
  {
   "cell_type": "code",
   "execution_count": 275,
   "metadata": {},
   "outputs": [],
   "source": [
    "def reset_non_core_edges(transmission):\n",
    "    graph = transmission.graph\n",
    "    weak_edges_to_remove = [edge for edge in graph.iter_edges() if edge.attr('kind') == 'weak']\n",
    "    for prev_weak_edge in weak_edges_to_remove:\n",
    "        graph.remove_edge(prev_weak_edge)\n",
    "        \n",
    "    strong_edges = [edge for edge in graph.iter_edges() if edge.attr('kind') == 'strong']\n",
    "\n",
    "    n_new_weak_edges = len(weak_edges_to_remove)\n",
    "    for new_weak_edge in community.generate_edges(graph, n_new_weak_edges):\n",
    "        graph.add_edge(new_weak_edge, kind='weak', strength=weak_strength)\n",
    "        \n",
    "    for edge in strong_edges:\n",
    "        new_strength = strong_strength if test(p_strong_interact) else 0\n",
    "        graph.update_edge(edge, strength=new_strength)\n",
    "        \n",
    "        \n",
    "class VaccineRunner:\n",
    "    def __init__(self, rollout, start_vaccine_day, daily_vaccinations):\n",
    "        self.start_vaccine_day = start_vaccine_day\n",
    "        self.daily_vaccinations = daily_vaccinations\n",
    "        \n",
    "        self.deaths = set()\n",
    "        self.survived = set()\n",
    "        self.vaccinated = set()\n",
    "        self.rollout = rollout(self)\n",
    "        \n",
    "    def __call__(self, transmission):\n",
    "        while True:\n",
    "            if transmission.steps >= self.start_vaccine_day:\n",
    "                try:\n",
    "                    for _ in range(self.daily_vaccinations):\n",
    "                        self.vaccinated.add(next(self.rollout))\n",
    "                except StopIteration:\n",
    "                    pass\n",
    "\n",
    "            # tally deaths\n",
    "            tracker = transmission.broadcast_tracker\n",
    "            for node in tracker:\n",
    "                if tracker.get(node, 9999) <= 0:\n",
    "                    if node not in self.survived and test(p_deaths.get(node, 0)):\n",
    "                        self.deaths.add(node)\n",
    "                    else:\n",
    "                        self.survived.add(node)\n",
    "\n",
    "            # reset weak edges\n",
    "            reset_non_core_edges(transmission)\n",
    "            try:\n",
    "                next(transmission)\n",
    "                yield\n",
    "            except StopIteration:\n",
    "                return"
   ]
  },
  {
   "cell_type": "code",
   "execution_count": 247,
   "metadata": {},
   "outputs": [],
   "source": [
    "def test_transmit(transmission, edge, vaccinated, vaccine_factor=0.05):\n",
    "    edge_strength = edge.attr('strength')\n",
    "    if edge.to_node in vaccinated:\n",
    "        return test(edge_strength * vaccine_factor)\n",
    "    return test(edge_strength)\n",
    "\n",
    "def generate_sim(graph, runner):\n",
    "    with fix_random():\n",
    "        return virus.virus_simulation(\n",
    "            graph=Graph.duplicate(graph),\n",
    "            patient0=1,\n",
    "            incubation_period=incubation_period,\n",
    "            contagious_for=contagious_for,\n",
    "            runner=runner,\n",
    "            test_transmit=partial(test_transmit, vaccinated=runner.vaccinated)\n",
    "        )"
   ]
  },
  {
   "cell_type": "markdown",
   "metadata": {},
   "source": [
    "## Parameters of simulation\n",
    "* `action_day`: when to start vaccinating\n",
    "* `run_to`: how many days to run simulation\n",
    "* `incubation_period`: how many days virus is dormant in a node/person before transmission begins\n",
    "* `contagious_for`: how many days a person is contagious\n",
    "* `daily_vaccinations`: rate of vaccinations given/day"
   ]
  },
  {
   "cell_type": "code",
   "execution_count": 255,
   "metadata": {},
   "outputs": [],
   "source": [
    "action_day = 45\n",
    "run_to = 100\n",
    "incubation_period = rv.randint(1, 10)\n",
    "contagious_for = rv.choice(0, 1, 2)\n",
    "daily_vaccinations = 50"
   ]
  },
  {
   "cell_type": "markdown",
   "metadata": {},
   "source": [
    "## Run the simulations\n",
    "\n",
    "WARNING: these take a while."
   ]
  },
  {
   "cell_type": "code",
   "execution_count": 249,
   "metadata": {},
   "outputs": [],
   "source": [
    "control_runner = VaccineRunner(\n",
    "    rollout=vaccination_order_by_p_death,\n",
    "    start_vaccine_day=9999,\n",
    "    daily_vaccinations=daily_vaccinations\n",
    ")\n",
    "control = generate_sim(graph0, control_runner)\n",
    "\n",
    "result_control = run_simulations(\n",
    "    control, to=run_to\n",
    ")"
   ]
  },
  {
   "cell_type": "code",
   "execution_count": 269,
   "metadata": {},
   "outputs": [],
   "source": [
    "vaccinate_random_runner = VaccineRunner(\n",
    "    rollout=vaccination_random,\n",
    "    start_vaccine_day=action_day,\n",
    "    daily_vaccinations=daily_vaccinations\n",
    ")\n",
    "vaccinate_random_order = generate_sim(graph0, vaccinate_random_runner)\n",
    "\n",
    "result_vaccinate_random = run_simulations(\n",
    "    vaccinate_random_order,\n",
    "    to=run_to\n",
    ")"
   ]
  },
  {
   "cell_type": "code",
   "execution_count": 278,
   "metadata": {},
   "outputs": [],
   "source": [
    "vaccinate_skip_survivor_runner = VaccineRunner(\n",
    "    rollout=vaccination_skipping_survivors,\n",
    "    start_vaccine_day=action_day,\n",
    "    daily_vaccinations=daily_vaccinations\n",
    ")\n",
    "vaccinate_skip_survivor = generate_sim(graph0, vaccinate_skip_survivor_runner)\n",
    "\n",
    "result_skip_survivor = run_simulations(\n",
    "    vaccinate_skip_survivor, \n",
    "    to=run_to\n",
    ")"
   ]
  },
  {
   "cell_type": "code",
   "execution_count": 284,
   "metadata": {},
   "outputs": [],
   "source": [
    "vaccinate_elderly_first_runner = VaccineRunner(\n",
    "    rollout=vaccination_order_by_p_death,\n",
    "    start_vaccine_day=action_day,\n",
    "    daily_vaccinations=daily_vaccinations\n",
    ")\n",
    "vaccinate_elderly_first = generate_sim(graph0, vaccinate_elderly_first_runner)\n",
    "\n",
    "result_elderly = run_simulations(\n",
    "    vaccinate_elderly_first,\n",
    "    to=run_to\n",
    ")"
   ]
  },
  {
   "cell_type": "code",
   "execution_count": 285,
   "metadata": {},
   "outputs": [],
   "source": [
    "vaccinate_essential_first_runner = VaccineRunner(\n",
    "    rollout=vaccination_order_by_edges,\n",
    "    start_vaccine_day=action_day,\n",
    "    daily_vaccinations=daily_vaccinations\n",
    ")\n",
    "vaccinate_essential_first = generate_sim(graph0, vaccinate_essential_first_runner)\n",
    "\n",
    "result_essential = run_simulations(\n",
    "    vaccinate_essential_first,\n",
    "    to=run_to\n",
    ")"
   ]
  },
  {
   "cell_type": "markdown",
   "metadata": {},
   "source": [
    "# Results"
   ]
  },
  {
   "cell_type": "markdown",
   "metadata": {},
   "source": [
    "## Deaths\n",
    "\n",
    "The control run without vaccinations resulted in the most deaths. Randomly vaccinating saved a few lives, but not as many as the more focused strategies discussed above.\n",
    "\n",
    "Targeting those with no immunity and targeting essential workers saved similar numbers of lives in this run. By and far the most effective campaign from a morality perspective, vaccinating elderly first saved 2/3 of the 120 lives that would have been lost, about 4x as many lives as a random vaccination campaign, and 2x that of the other targeted strategies."
   ]
  },
  {
   "cell_type": "code",
   "execution_count": 286,
   "metadata": {},
   "outputs": [
    {
     "data": {
      "text/plain": [
       "{'control': 122,\n",
       " 'random_vaccination': 105,\n",
       " 'skip_survivors': 92,\n",
       " 'elderly_first': 44,\n",
       " 'essential_workers_first': 92}"
      ]
     },
     "execution_count": 286,
     "metadata": {},
     "output_type": "execute_result"
    }
   ],
   "source": [
    "dict(\n",
    "    control=len(control_runner.deaths), \n",
    "    random_vaccination=len(vaccinate_random_runner.deaths),\n",
    "    skip_survivors=len(vaccinate_skip_survivor_runner.deaths),\n",
    "    elderly_first=len(vaccinate_elderly_first_runner.deaths), \n",
    "    essential_workers_first=len(vaccinate_essential_first_runner.deaths)\n",
    ")"
   ]
  },
  {
   "cell_type": "code",
   "execution_count": 287,
   "metadata": {},
   "outputs": [],
   "source": [
    "def sim_sequence(sim, n):\n",
    "    for i in range(n):\n",
    "        index = -1 if i >= len(sim.history) else i\n",
    "        yield sim.history[index].broadcasts\n",
    "\n",
    "def plot(results, labels=None):\n",
    "    fig = plt.figure(figsize=(12, 12))\n",
    "    plt.title('Virus transmission vs. T (days)', fontsize=16)\n",
    "    lines = []\n",
    "    for sim in results:\n",
    "        line, = plt.plot(range(run_to), list(sim_sequence(sim, run_to)), 'o-')\n",
    "        lines.append(line)\n",
    "\n",
    "    if labels:\n",
    "        plt.legend(lines, labels, loc='upper left')\n",
    "    plt.xlabel('Days elapsed')\n",
    "    plt.ylabel('Cases')"
   ]
  },
  {
   "cell_type": "markdown",
   "metadata": {},
   "source": [
    "## Limiting transmission"
   ]
  },
  {
   "cell_type": "markdown",
   "metadata": {},
   "source": [
    "All vaccination campaigns did a good job of limiting transmission *when applied early enough*. Even applying at the beginning of exponential growth, the transmission still got to around 2/3 of the population due to the power of exponential growth and the linear growth of the number of vaccinations.\n",
    "\n",
    "The random vaccinations and elderly-first rollouts limited transmission similarly - which makes sense because age and mortality was randomly applied, so both are really randomly applying vaccinations when decoupled from the mortality aspect. The essential worker and immune rollouts were moderately more effective, but not as much as one would expect. This may allude to the fact that most transmission occurs across households via core connections rather than strong connections that essential workers have with the rest of society."
   ]
  },
  {
   "cell_type": "code",
   "execution_count": 288,
   "metadata": {},
   "outputs": [
    {
     "data": {
      "image/png": "[encoded data removed]",
      "text/plain": [
       "<Figure size 864x864 with 1 Axes>"
      ]
     },
     "metadata": {
      "needs_background": "light"
     },
     "output_type": "display_data"
    }
   ],
   "source": [
    "plot(\n",
    "    [control, vaccinate_random_order, result_skip_survivor, result_elderly, result_essential],\n",
    "    ['Control', 'Vaccinate randomly', 'Selectively vaccinate those who have not caught the virus', \n",
    "     'Vaccinate elderly first', 'Vaccinate essential workers first']\n",
    ")"
   ]
  }
 ],
 "metadata": {
  "kernelspec": {
   "display_name": "pathos_env",
   "language": "python",
   "name": "pathos_env"
  },
  "language_info": {
   "codemirror_mode": {
    "name": "ipython",
    "version": 3
   },
   "file_extension": ".py",
   "mimetype": "text/x-python",
   "name": "python",
   "nbconvert_exporter": "python",
   "pygments_lexer": "ipython3",
   "version": "3.8.5"
  }
 },
 "nbformat": 4,
 "nbformat_minor": 4
}
